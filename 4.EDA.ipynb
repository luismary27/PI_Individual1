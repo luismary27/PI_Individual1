{
 "cells": [
  {
   "cell_type": "markdown",
   "metadata": {},
   "source": [
    "Análisis Exploratorio de Datos "
   ]
  },
  {
   "cell_type": "code",
   "execution_count": 2,
   "metadata": {},
   "outputs": [],
   "source": [
    "#Importamos librerias\n",
    "import pandas as pd\n",
    "import matplotlib.pyplot as plt\n",
    "import seaborn as sns\n"
   ]
  },
  {
   "cell_type": "markdown",
   "metadata": {},
   "source": [
    "EDA Dataset Steam_Games"
   ]
  },
  {
   "cell_type": "code",
   "execution_count": 3,
   "metadata": {},
   "outputs": [
    {
     "data": {
      "text/html": [
       "<div>\n",
       "<style scoped>\n",
       "    .dataframe tbody tr th:only-of-type {\n",
       "        vertical-align: middle;\n",
       "    }\n",
       "\n",
       "    .dataframe tbody tr th {\n",
       "        vertical-align: top;\n",
       "    }\n",
       "\n",
       "    .dataframe thead th {\n",
       "        text-align: right;\n",
       "    }\n",
       "</style>\n",
       "<table border=\"1\" class=\"dataframe\">\n",
       "  <thead>\n",
       "    <tr style=\"text-align: right;\">\n",
       "      <th></th>\n",
       "      <th>item_id</th>\n",
       "      <th>app_name</th>\n",
       "      <th>title</th>\n",
       "      <th>genres</th>\n",
       "      <th>release_date</th>\n",
       "      <th>publisher</th>\n",
       "      <th>developer</th>\n",
       "    </tr>\n",
       "  </thead>\n",
       "  <tbody>\n",
       "    <tr>\n",
       "      <th>0</th>\n",
       "      <td>761140</td>\n",
       "      <td>Lost Summoner Kitty</td>\n",
       "      <td>Lost Summoner Kitty</td>\n",
       "      <td>Action</td>\n",
       "      <td>2018</td>\n",
       "      <td>Kotoshiro</td>\n",
       "      <td>Kotoshiro</td>\n",
       "    </tr>\n",
       "    <tr>\n",
       "      <th>1</th>\n",
       "      <td>761140</td>\n",
       "      <td>Lost Summoner Kitty</td>\n",
       "      <td>Lost Summoner Kitty</td>\n",
       "      <td>Casual</td>\n",
       "      <td>2018</td>\n",
       "      <td>Kotoshiro</td>\n",
       "      <td>Kotoshiro</td>\n",
       "    </tr>\n",
       "    <tr>\n",
       "      <th>2</th>\n",
       "      <td>761140</td>\n",
       "      <td>Lost Summoner Kitty</td>\n",
       "      <td>Lost Summoner Kitty</td>\n",
       "      <td>Indie</td>\n",
       "      <td>2018</td>\n",
       "      <td>Kotoshiro</td>\n",
       "      <td>Kotoshiro</td>\n",
       "    </tr>\n",
       "    <tr>\n",
       "      <th>3</th>\n",
       "      <td>761140</td>\n",
       "      <td>Lost Summoner Kitty</td>\n",
       "      <td>Lost Summoner Kitty</td>\n",
       "      <td>Simulation</td>\n",
       "      <td>2018</td>\n",
       "      <td>Kotoshiro</td>\n",
       "      <td>Kotoshiro</td>\n",
       "    </tr>\n",
       "    <tr>\n",
       "      <th>4</th>\n",
       "      <td>761140</td>\n",
       "      <td>Lost Summoner Kitty</td>\n",
       "      <td>Lost Summoner Kitty</td>\n",
       "      <td>Strategy</td>\n",
       "      <td>2018</td>\n",
       "      <td>Kotoshiro</td>\n",
       "      <td>Kotoshiro</td>\n",
       "    </tr>\n",
       "    <tr>\n",
       "      <th>...</th>\n",
       "      <td>...</td>\n",
       "      <td>...</td>\n",
       "      <td>...</td>\n",
       "      <td>...</td>\n",
       "      <td>...</td>\n",
       "      <td>...</td>\n",
       "      <td>...</td>\n",
       "    </tr>\n",
       "    <tr>\n",
       "      <th>71547</th>\n",
       "      <td>610660</td>\n",
       "      <td>Russian Roads</td>\n",
       "      <td>Russian Roads</td>\n",
       "      <td>Indie</td>\n",
       "      <td>2018</td>\n",
       "      <td>Laush Studio</td>\n",
       "      <td>Laush Dmitriy Sergeevich</td>\n",
       "    </tr>\n",
       "    <tr>\n",
       "      <th>71548</th>\n",
       "      <td>610660</td>\n",
       "      <td>Russian Roads</td>\n",
       "      <td>Russian Roads</td>\n",
       "      <td>Racing</td>\n",
       "      <td>2018</td>\n",
       "      <td>Laush Studio</td>\n",
       "      <td>Laush Dmitriy Sergeevich</td>\n",
       "    </tr>\n",
       "    <tr>\n",
       "      <th>71549</th>\n",
       "      <td>610660</td>\n",
       "      <td>Russian Roads</td>\n",
       "      <td>Russian Roads</td>\n",
       "      <td>Simulation</td>\n",
       "      <td>2018</td>\n",
       "      <td>Laush Studio</td>\n",
       "      <td>Laush Dmitriy Sergeevich</td>\n",
       "    </tr>\n",
       "    <tr>\n",
       "      <th>71550</th>\n",
       "      <td>658870</td>\n",
       "      <td>EXIT 2 - Directions</td>\n",
       "      <td>EXIT 2 - Directions</td>\n",
       "      <td>Casual</td>\n",
       "      <td>2017</td>\n",
       "      <td>SIXNAILS</td>\n",
       "      <td>xropi,stev3ns</td>\n",
       "    </tr>\n",
       "    <tr>\n",
       "      <th>71551</th>\n",
       "      <td>658870</td>\n",
       "      <td>EXIT 2 - Directions</td>\n",
       "      <td>EXIT 2 - Directions</td>\n",
       "      <td>Indie</td>\n",
       "      <td>2017</td>\n",
       "      <td>SIXNAILS</td>\n",
       "      <td>xropi,stev3ns</td>\n",
       "    </tr>\n",
       "  </tbody>\n",
       "</table>\n",
       "<p>71552 rows × 7 columns</p>\n",
       "</div>"
      ],
      "text/plain": [
       "       item_id             app_name                title      genres  \\\n",
       "0       761140  Lost Summoner Kitty  Lost Summoner Kitty      Action   \n",
       "1       761140  Lost Summoner Kitty  Lost Summoner Kitty      Casual   \n",
       "2       761140  Lost Summoner Kitty  Lost Summoner Kitty       Indie   \n",
       "3       761140  Lost Summoner Kitty  Lost Summoner Kitty  Simulation   \n",
       "4       761140  Lost Summoner Kitty  Lost Summoner Kitty    Strategy   \n",
       "...        ...                  ...                  ...         ...   \n",
       "71547   610660        Russian Roads        Russian Roads       Indie   \n",
       "71548   610660        Russian Roads        Russian Roads      Racing   \n",
       "71549   610660        Russian Roads        Russian Roads  Simulation   \n",
       "71550   658870  EXIT 2 - Directions  EXIT 2 - Directions      Casual   \n",
       "71551   658870  EXIT 2 - Directions  EXIT 2 - Directions       Indie   \n",
       "\n",
       "       release_date     publisher                 developer  \n",
       "0              2018     Kotoshiro                 Kotoshiro  \n",
       "1              2018     Kotoshiro                 Kotoshiro  \n",
       "2              2018     Kotoshiro                 Kotoshiro  \n",
       "3              2018     Kotoshiro                 Kotoshiro  \n",
       "4              2018     Kotoshiro                 Kotoshiro  \n",
       "...             ...           ...                       ...  \n",
       "71547          2018  Laush Studio  Laush Dmitriy Sergeevich  \n",
       "71548          2018  Laush Studio  Laush Dmitriy Sergeevich  \n",
       "71549          2018  Laush Studio  Laush Dmitriy Sergeevich  \n",
       "71550          2017      SIXNAILS             xropi,stev3ns  \n",
       "71551          2017      SIXNAILS             xropi,stev3ns  \n",
       "\n",
       "[71552 rows x 7 columns]"
      ]
     },
     "execution_count": 3,
     "metadata": {},
     "output_type": "execute_result"
    }
   ],
   "source": [
    "#Extraemos la data\n",
    "eda_steam=pd.read_csv('Datasets/steam_games_ML.csv', encoding='utf8')\n",
    "eda_steam"
   ]
  },
  {
   "cell_type": "code",
   "execution_count": 4,
   "metadata": {},
   "outputs": [
    {
     "name": "stdout",
     "output_type": "stream",
     "text": [
      "<class 'pandas.core.frame.DataFrame'>\n",
      "RangeIndex: 71552 entries, 0 to 71551\n",
      "Data columns (total 7 columns):\n",
      " #   Column        Non-Null Count  Dtype \n",
      "---  ------        --------------  ----- \n",
      " 0   item_id       71552 non-null  int64 \n",
      " 1   app_name      71550 non-null  object\n",
      " 2   title         71550 non-null  object\n",
      " 3   genres        71552 non-null  object\n",
      " 4   release_date  71552 non-null  int64 \n",
      " 5   publisher     59066 non-null  object\n",
      " 6   developer     71202 non-null  object\n",
      "dtypes: int64(2), object(5)\n",
      "memory usage: 3.8+ MB\n"
     ]
    }
   ],
   "source": [
    "#Verificamos valores y tipos de datos de las columnas\n",
    "eda_steam.info()"
   ]
  },
  {
   "cell_type": "code",
   "execution_count": 5,
   "metadata": {},
   "outputs": [
    {
     "data": {
      "text/plain": [
       "(71552, 7)"
      ]
     },
     "execution_count": 5,
     "metadata": {},
     "output_type": "execute_result"
    }
   ],
   "source": [
    "#verificamos las dimensioness\n",
    "eda_steam.shape"
   ]
  },
  {
   "cell_type": "code",
   "execution_count": 6,
   "metadata": {},
   "outputs": [
    {
     "data": {
      "text/plain": [
       "item_id             0\n",
       "app_name            2\n",
       "title               2\n",
       "genres              0\n",
       "release_date        0\n",
       "publisher       12486\n",
       "developer         350\n",
       "dtype: int64"
      ]
     },
     "execution_count": 6,
     "metadata": {},
     "output_type": "execute_result"
    }
   ],
   "source": [
    "#Verificamos los valores nulos que hay en el datasets\n",
    "eda_steam.isnull().sum()\n"
   ]
  },
  {
   "cell_type": "code",
   "execution_count": 7,
   "metadata": {},
   "outputs": [
    {
     "data": {
      "text/html": [
       "<div>\n",
       "<style scoped>\n",
       "    .dataframe tbody tr th:only-of-type {\n",
       "        vertical-align: middle;\n",
       "    }\n",
       "\n",
       "    .dataframe tbody tr th {\n",
       "        vertical-align: top;\n",
       "    }\n",
       "\n",
       "    .dataframe thead th {\n",
       "        text-align: right;\n",
       "    }\n",
       "</style>\n",
       "<table border=\"1\" class=\"dataframe\">\n",
       "  <thead>\n",
       "    <tr style=\"text-align: right;\">\n",
       "      <th></th>\n",
       "      <th>item_id</th>\n",
       "      <th>release_date</th>\n",
       "      <th>publisher</th>\n",
       "      <th>app_name</th>\n",
       "      <th>developer</th>\n",
       "      <th>genres</th>\n",
       "      <th>title</th>\n",
       "    </tr>\n",
       "  </thead>\n",
       "  <tbody>\n",
       "    <tr>\n",
       "      <th>71542</th>\n",
       "      <td>773640</td>\n",
       "      <td>2018</td>\n",
       "      <td>Ghost_RUS Games</td>\n",
       "      <td>Colony On Mars</td>\n",
       "      <td>Nikita \"Ghost_RUS\"</td>\n",
       "      <td>Simulation</td>\n",
       "      <td>Colony On Mars</td>\n",
       "    </tr>\n",
       "    <tr>\n",
       "      <th>71543</th>\n",
       "      <td>773640</td>\n",
       "      <td>2018</td>\n",
       "      <td>Ghost_RUS Games</td>\n",
       "      <td>Colony On Mars</td>\n",
       "      <td>Nikita \"Ghost_RUS\"</td>\n",
       "      <td>Strategy</td>\n",
       "      <td>Colony On Mars</td>\n",
       "    </tr>\n",
       "    <tr>\n",
       "      <th>71544</th>\n",
       "      <td>733530</td>\n",
       "      <td>2018</td>\n",
       "      <td>Sacada</td>\n",
       "      <td>LOGistICAL: South Africa</td>\n",
       "      <td>Sacada</td>\n",
       "      <td>Casual</td>\n",
       "      <td>LOGistICAL: South Africa</td>\n",
       "    </tr>\n",
       "    <tr>\n",
       "      <th>71545</th>\n",
       "      <td>733530</td>\n",
       "      <td>2018</td>\n",
       "      <td>Sacada</td>\n",
       "      <td>LOGistICAL: South Africa</td>\n",
       "      <td>Sacada</td>\n",
       "      <td>Indie</td>\n",
       "      <td>LOGistICAL: South Africa</td>\n",
       "    </tr>\n",
       "    <tr>\n",
       "      <th>71546</th>\n",
       "      <td>733530</td>\n",
       "      <td>2018</td>\n",
       "      <td>Sacada</td>\n",
       "      <td>LOGistICAL: South Africa</td>\n",
       "      <td>Sacada</td>\n",
       "      <td>Strategy</td>\n",
       "      <td>LOGistICAL: South Africa</td>\n",
       "    </tr>\n",
       "    <tr>\n",
       "      <th>71547</th>\n",
       "      <td>610660</td>\n",
       "      <td>2018</td>\n",
       "      <td>Laush Studio</td>\n",
       "      <td>Russian Roads</td>\n",
       "      <td>Laush Dmitriy Sergeevich</td>\n",
       "      <td>Indie</td>\n",
       "      <td>Russian Roads</td>\n",
       "    </tr>\n",
       "    <tr>\n",
       "      <th>71548</th>\n",
       "      <td>610660</td>\n",
       "      <td>2018</td>\n",
       "      <td>Laush Studio</td>\n",
       "      <td>Russian Roads</td>\n",
       "      <td>Laush Dmitriy Sergeevich</td>\n",
       "      <td>Racing</td>\n",
       "      <td>Russian Roads</td>\n",
       "    </tr>\n",
       "    <tr>\n",
       "      <th>71549</th>\n",
       "      <td>610660</td>\n",
       "      <td>2018</td>\n",
       "      <td>Laush Studio</td>\n",
       "      <td>Russian Roads</td>\n",
       "      <td>Laush Dmitriy Sergeevich</td>\n",
       "      <td>Simulation</td>\n",
       "      <td>Russian Roads</td>\n",
       "    </tr>\n",
       "    <tr>\n",
       "      <th>71550</th>\n",
       "      <td>658870</td>\n",
       "      <td>2017</td>\n",
       "      <td>SIXNAILS</td>\n",
       "      <td>EXIT 2 - Directions</td>\n",
       "      <td>xropi,stev3ns</td>\n",
       "      <td>Casual</td>\n",
       "      <td>EXIT 2 - Directions</td>\n",
       "    </tr>\n",
       "    <tr>\n",
       "      <th>71551</th>\n",
       "      <td>658870</td>\n",
       "      <td>2017</td>\n",
       "      <td>SIXNAILS</td>\n",
       "      <td>EXIT 2 - Directions</td>\n",
       "      <td>xropi,stev3ns</td>\n",
       "      <td>Indie</td>\n",
       "      <td>EXIT 2 - Directions</td>\n",
       "    </tr>\n",
       "  </tbody>\n",
       "</table>\n",
       "</div>"
      ],
      "text/plain": [
       "       item_id  release_date        publisher                  app_name  \\\n",
       "71542   773640          2018  Ghost_RUS Games            Colony On Mars   \n",
       "71543   773640          2018  Ghost_RUS Games            Colony On Mars   \n",
       "71544   733530          2018           Sacada  LOGistICAL: South Africa   \n",
       "71545   733530          2018           Sacada  LOGistICAL: South Africa   \n",
       "71546   733530          2018           Sacada  LOGistICAL: South Africa   \n",
       "71547   610660          2018     Laush Studio             Russian Roads   \n",
       "71548   610660          2018     Laush Studio             Russian Roads   \n",
       "71549   610660          2018     Laush Studio             Russian Roads   \n",
       "71550   658870          2017         SIXNAILS       EXIT 2 - Directions   \n",
       "71551   658870          2017         SIXNAILS       EXIT 2 - Directions   \n",
       "\n",
       "                      developer      genres                     title  \n",
       "71542        Nikita \"Ghost_RUS\"  Simulation            Colony On Mars  \n",
       "71543        Nikita \"Ghost_RUS\"    Strategy            Colony On Mars  \n",
       "71544                    Sacada      Casual  LOGistICAL: South Africa  \n",
       "71545                    Sacada       Indie  LOGistICAL: South Africa  \n",
       "71546                    Sacada    Strategy  LOGistICAL: South Africa  \n",
       "71547  Laush Dmitriy Sergeevich       Indie             Russian Roads  \n",
       "71548  Laush Dmitriy Sergeevich      Racing             Russian Roads  \n",
       "71549  Laush Dmitriy Sergeevich  Simulation             Russian Roads  \n",
       "71550             xropi,stev3ns      Casual       EXIT 2 - Directions  \n",
       "71551             xropi,stev3ns       Indie       EXIT 2 - Directions  "
      ]
     },
     "execution_count": 7,
     "metadata": {},
     "output_type": "execute_result"
    }
   ],
   "source": [
    "#Sustituimos los valores nulos con \"Sin info\" para poder graficar\n",
    "columnas_nulos=[\"publisher\", \"app_name\",\"developer\",\"genres\",'title']\n",
    "null= eda_steam[columnas_nulos].fillna(\"Sin info\")\n",
    "eda_steam1 = pd.concat([eda_steam.drop(columnas_nulos, axis=1), null], axis=1)\n",
    "eda_steam1.tail(10)\n"
   ]
  },
  {
   "cell_type": "code",
   "execution_count": 8,
   "metadata": {},
   "outputs": [
    {
     "data": {
      "text/plain": [
       "item_id         0\n",
       "release_date    0\n",
       "publisher       0\n",
       "app_name        0\n",
       "developer       0\n",
       "genres          0\n",
       "title           0\n",
       "dtype: int64"
      ]
     },
     "execution_count": 8,
     "metadata": {},
     "output_type": "execute_result"
    }
   ],
   "source": [
    "#Verificamos que no hayan valores nulos\n",
    "eda_steam1.isnull().sum()"
   ]
  },
  {
   "cell_type": "markdown",
   "metadata": {},
   "source": [
    "Identificador unico de contenido (Item_id)\n"
   ]
  },
  {
   "cell_type": "code",
   "execution_count": 9,
   "metadata": {},
   "outputs": [
    {
     "data": {
      "text/plain": [
       "item_id\n",
       "313320    11\n",
       "708940    10\n",
       "376120    10\n",
       "620040    10\n",
       "622470     9\n",
       "          ..\n",
       "471893     1\n",
       "572380     1\n",
       "231485     1\n",
       "231477     1\n",
       "353330     1\n",
       "Name: count, Length: 28850, dtype: int64"
      ]
     },
     "execution_count": 9,
     "metadata": {},
     "output_type": "execute_result"
    }
   ],
   "source": [
    "identificador=eda_steam1[\"item_id\"].value_counts()\n",
    "identificador"
   ]
  },
  {
   "cell_type": "markdown",
   "metadata": {},
   "source": [
    "Hay un total de 28.850 de Id de juegos"
   ]
  },
  {
   "cell_type": "markdown",
   "metadata": {},
   "source": [
    "Año de lanzamiento(release_date)"
   ]
  },
  {
   "cell_type": "code",
   "execution_count": 10,
   "metadata": {},
   "outputs": [
    {
     "data": {
      "text/plain": [
       "release_date\n",
       "2017    24968\n",
       "2016    17667\n",
       "2015    12256\n",
       "2014     6341\n",
       "2013     3016\n",
       "2012     2106\n",
       "2011      986\n",
       "0         850\n",
       "2010      653\n",
       "2009      486\n",
       "2008      332\n",
       "2018      312\n",
       "2007      259\n",
       "2006      217\n",
       "2005      139\n",
       "2003      118\n",
       "2001      109\n",
       "2004       92\n",
       "1999       80\n",
       "1998       75\n",
       "1997       64\n",
       "2002       62\n",
       "1996       56\n",
       "2000       55\n",
       "1994       52\n",
       "1995       49\n",
       "1993       40\n",
       "1992       24\n",
       "1991       22\n",
       "1990       14\n",
       "1989       11\n",
       "2019       10\n",
       "1988        9\n",
       "1984        5\n",
       "1987        5\n",
       "1986        5\n",
       "1983        3\n",
       "2021        3\n",
       "1985        1\n",
       "Name: count, dtype: int64"
      ]
     },
     "execution_count": 10,
     "metadata": {},
     "output_type": "execute_result"
    }
   ],
   "source": [
    "#Vemos los datos por cada año\n",
    "anio_lanzamiento=eda_steam1[\"release_date\"].value_counts()\n",
    "anio_lanzamiento"
   ]
  },
  {
   "cell_type": "markdown",
   "metadata": {},
   "source": [
    "El año con mas lanzamientos fue en el año 2017 con 24968 registros"
   ]
  },
  {
   "cell_type": "code",
   "execution_count": 11,
   "metadata": {},
   "outputs": [
    {
     "name": "stderr",
     "output_type": "stream",
     "text": [
      "C:\\Users\\Armando\\AppData\\Local\\Temp\\ipykernel_16452\\3564478263.py:3: FutureWarning: \n",
      "\n",
      "Passing `palette` without assigning `hue` is deprecated and will be removed in v0.14.0. Assign the `x` variable to `hue` and set `legend=False` for the same effect.\n",
      "\n",
      "  sns.barplot(x=anio_lanzamiento.index, y=anio_lanzamiento.values, palette=(\"Set1\"))\n"
     ]
    },
    {
     "data": {
      "image/png": "[encoded data removed]",
      "text/plain": [
       "<Figure size 1400x500 with 1 Axes>"
      ]
     },
     "metadata": {},
     "output_type": "display_data"
    }
   ],
   "source": [
    "anio_lanzamiento=anio_lanzamiento.sort_index()\n",
    "plt.figure(figsize=(14, 5))\n",
    "sns.barplot(x=anio_lanzamiento.index, y=anio_lanzamiento.values, palette=(\"Set1\"))\n",
    "plt.xlabel('Año de lanzamiento') ; plt.ylabel('Cantidad de Juegos') ; plt.title('Cantidad de Juegos por Año de lanzamiento')\n",
    "plt.xticks(rotation=45, ha='right')\n",
    "plt.tight_layout()\n",
    "plt.show()"
   ]
  },
  {
   "cell_type": "markdown",
   "metadata": {},
   "source": [
    "La cantidad de juegos que fueron lanzados en la plataforma comenzo a partir del 2011 con mayor crecimiento hasta tener su mayor creciemiento en el 2017."
   ]
  },
  {
   "cell_type": "markdown",
   "metadata": {},
   "source": [
    "Empresa publicadora del contenido (Publisher)\n"
   ]
  },
  {
   "cell_type": "code",
   "execution_count": 15,
   "metadata": {},
   "outputs": [
    {
     "data": {
      "text/plain": [
       "publisher\n",
       "Sin info                   12486\n",
       "KISS ltd                     807\n",
       "Ubisoft                      684\n",
       "Degica                       528\n",
       "Paradox Interactive          441\n",
       "                           ...  \n",
       "Nurgo Software                 1\n",
       "Ubisoft - San Francisco        1\n",
       "Marcos Dumont                  1\n",
       "Ready Play Games               1\n",
       "PyrofrogStudos                 1\n",
       "Name: count, Length: 8224, dtype: int64"
      ]
     },
     "execution_count": 15,
     "metadata": {},
     "output_type": "execute_result"
    }
   ],
   "source": [
    "#Vemos valores por cada empresa\n",
    "publicadora=eda_steam1[\"publisher\"].value_counts()\n",
    "publicadora"
   ]
  },
  {
   "cell_type": "code",
   "execution_count": 17,
   "metadata": {},
   "outputs": [
    {
     "data": {
      "image/png": "[encoded data removed]",
      "text/plain": [
       "<Figure size 1000x500 with 1 Axes>"
      ]
     },
     "metadata": {},
     "output_type": "display_data"
    }
   ],
   "source": [
    "plt.figure(figsize=(10, 5))\n",
    "publicadora[:15].plot(kind='barh', color='blue')\n",
    "plt.xlabel('Cantidad de juegos') ; plt.ylabel('Editor') ; plt.title('Top 10 Editores')\n",
    "plt.gca().invert_yaxis()  # Esta línea invierte el eje y para mostrar el editor principal en la parte superior\n"
   ]
  },
  {
   "cell_type": "markdown",
   "metadata": {},
   "source": [
    "La mayoria de las columnas estan sin informacion de la empresa quien publica el contenido, la empresa con mayor registro es KISS Itd "
   ]
  },
  {
   "cell_type": "markdown",
   "metadata": {},
   "source": [
    "Nombre del contenido(app_name)"
   ]
  },
  {
   "cell_type": "code",
   "execution_count": 12,
   "metadata": {},
   "outputs": [
    {
     "data": {
      "text/plain": [
       "app_name\n",
       "AutoTileSet                                        11\n",
       "Multiplicity                                       10\n",
       "Assault Corps 2                                    10\n",
       "Rebons                                             10\n",
       "Marble Mayhem: Fragile Ball                         9\n",
       "                                                   ..\n",
       "F7 Southern Pacific \"Bloody Nose\" Add-on Livery     1\n",
       "BR Class 31 Ochre Add-on Livery                     1\n",
       "Seeders                                             1\n",
       "In Between Demo                                     1\n",
       "Depth Crawler Gold Coat                             1\n",
       "Name: count, Length: 28828, dtype: int64"
      ]
     },
     "execution_count": 12,
     "metadata": {},
     "output_type": "execute_result"
    }
   ],
   "source": [
    "Contenido=eda_steam1[\"app_name\"].value_counts()\n",
    "Contenido"
   ]
  },
  {
   "cell_type": "markdown",
   "metadata": {},
   "source": [
    "Generos(genres)"
   ]
  },
  {
   "cell_type": "code",
   "execution_count": 25,
   "metadata": {},
   "outputs": [
    {
     "data": {
      "text/plain": [
       "genres\n",
       "Indie                        15858\n",
       "Action                       11320\n",
       "Casual                        8282\n",
       "Adventure                     8242\n",
       "Strategy                      6957\n",
       "Simulation                    6699\n",
       "RPG                           5479\n",
       "Free to Play                  2031\n",
       "Early Access                  1462\n",
       "Sports                        1257\n",
       "Massively Multiplayer         1108\n",
       "Racing                        1083\n",
       "Design &amp; Illustration      460\n",
       "Utilities                      340\n",
       "Web Publishing                 268\n",
       "Animation &amp; Modeling       183\n",
       "Education                      125\n",
       "Video Production               116\n",
       "Software Training              105\n",
       "Audio Production                93\n",
       "Photo Editing                   77\n",
       "Accounting                       7\n",
       "Name: count, dtype: int64"
      ]
     },
     "execution_count": 25,
     "metadata": {},
     "output_type": "execute_result"
    }
   ],
   "source": [
    "generos=eda_steam1[\"genres\"].value_counts()\n",
    "generos"
   ]
  },
  {
   "cell_type": "code",
   "execution_count": 26,
   "metadata": {},
   "outputs": [
    {
     "data": {
      "image/png": "[encoded data removed]",
      "text/plain": [
       "<Figure size 1200x800 with 1 Axes>"
      ]
     },
     "metadata": {},
     "output_type": "display_data"
    }
   ],
   "source": [
    "fig, ax = plt.subplots(figsize=(12, 8))\n",
    "ax.barh(generos.index, generos)\n",
    "ax.set_yticks(generos.index)\n",
    "ax.set_yticklabels(generos.index)\n",
    "ax.set_title(\"Distribución de géneros\")\n",
    "plt.show()\n",
    "\n",
    "\n"
   ]
  },
  {
   "cell_type": "markdown",
   "metadata": {},
   "source": [
    "Desarrollador(developer)\n",
    "\n"
   ]
  },
  {
   "cell_type": "code",
   "execution_count": 18,
   "metadata": {},
   "outputs": [
    {
     "data": {
      "text/plain": [
       "developer\n",
       "Ubisoft - San Francisco                                                             2516\n",
       "SmiteWorks USA, LLC                                                                 2364\n",
       "DL Softworks                                                                         495\n",
       "Ronimo Games                                                                         379\n",
       "Sin info                                                                             350\n",
       "                                                                                    ... \n",
       "Viron Shake                                                                            1\n",
       "Fewjix                                                                                 1\n",
       "Kyuppin                                                                                1\n",
       "NHLislive                                                                              1\n",
       "Evan Hatampour,K.Song Tan,Anton Kagounkin Magdalina,Stuart Hwang,Mike VanPeursem       1\n",
       "Name: count, Length: 10964, dtype: int64"
      ]
     },
     "execution_count": 18,
     "metadata": {},
     "output_type": "execute_result"
    }
   ],
   "source": [
    "developer= eda_steam1[\"developer\"].value_counts()\n",
    "developer"
   ]
  },
  {
   "cell_type": "code",
   "execution_count": 20,
   "metadata": {},
   "outputs": [
    {
     "data": {
      "text/plain": [
       "Text(0.5, 1.0, 'Top 10 Developers')"
      ]
     },
     "execution_count": 20,
     "metadata": {},
     "output_type": "execute_result"
    },
    {
     "data": {
      "image/png": "[encoded data removed]",
      "text/plain": [
       "<Figure size 1000x500 with 1 Axes>"
      ]
     },
     "metadata": {},
     "output_type": "display_data"
    }
   ],
   "source": [
    "plt.figure(figsize=(10, 5))\n",
    "developer[:10].plot(kind='bar', color='orange')\n",
    "plt.xlabel('Developer') ; plt.ylabel('Cantidad de Juegos') ; plt.title('Top 10 Developers')"
   ]
  },
  {
   "cell_type": "markdown",
   "metadata": {},
   "source": [
    "El desarrollador con mas juegos es la empresa Ubisoft - San Francisco con registros de 2.516"
   ]
  },
  {
   "cell_type": "markdown",
   "metadata": {},
   "source": [
    "EDA Datasets User_Reviews"
   ]
  },
  {
   "cell_type": "code",
   "execution_count": 26,
   "metadata": {},
   "outputs": [
    {
     "data": {
      "text/html": [
       "<div>\n",
       "<style scoped>\n",
       "    .dataframe tbody tr th:only-of-type {\n",
       "        vertical-align: middle;\n",
       "    }\n",
       "\n",
       "    .dataframe tbody tr th {\n",
       "        vertical-align: top;\n",
       "    }\n",
       "\n",
       "    .dataframe thead th {\n",
       "        text-align: right;\n",
       "    }\n",
       "</style>\n",
       "<table border=\"1\" class=\"dataframe\">\n",
       "  <thead>\n",
       "    <tr style=\"text-align: right;\">\n",
       "      <th></th>\n",
       "      <th>user_id</th>\n",
       "      <th>posted</th>\n",
       "      <th>item_id</th>\n",
       "      <th>helpful</th>\n",
       "      <th>recommend</th>\n",
       "      <th>sentiment_analisis</th>\n",
       "      <th>Posted</th>\n",
       "    </tr>\n",
       "  </thead>\n",
       "  <tbody>\n",
       "    <tr>\n",
       "      <th>0</th>\n",
       "      <td>76561197970982479</td>\n",
       "      <td>November 5, 2011</td>\n",
       "      <td>1250</td>\n",
       "      <td>No ratings yet</td>\n",
       "      <td>True</td>\n",
       "      <td>1</td>\n",
       "      <td>2011</td>\n",
       "    </tr>\n",
       "    <tr>\n",
       "      <th>1</th>\n",
       "      <td>76561197970982479</td>\n",
       "      <td>July 15, 2011</td>\n",
       "      <td>22200</td>\n",
       "      <td>No ratings yet</td>\n",
       "      <td>True</td>\n",
       "      <td>2</td>\n",
       "      <td>2011</td>\n",
       "    </tr>\n",
       "    <tr>\n",
       "      <th>2</th>\n",
       "      <td>76561197970982479</td>\n",
       "      <td>April 21, 2011</td>\n",
       "      <td>43110</td>\n",
       "      <td>No ratings yet</td>\n",
       "      <td>True</td>\n",
       "      <td>1</td>\n",
       "      <td>2011</td>\n",
       "    </tr>\n",
       "    <tr>\n",
       "      <th>3</th>\n",
       "      <td>js41637</td>\n",
       "      <td>June 24, 2014</td>\n",
       "      <td>251610</td>\n",
       "      <td>15 of 20 people (75%) found this review helpful</td>\n",
       "      <td>True</td>\n",
       "      <td>1</td>\n",
       "      <td>2014</td>\n",
       "    </tr>\n",
       "    <tr>\n",
       "      <th>4</th>\n",
       "      <td>js41637</td>\n",
       "      <td>September 8, 2013</td>\n",
       "      <td>227300</td>\n",
       "      <td>0 of 1 people (0%) found this review helpful</td>\n",
       "      <td>True</td>\n",
       "      <td>1</td>\n",
       "      <td>2013</td>\n",
       "    </tr>\n",
       "    <tr>\n",
       "      <th>...</th>\n",
       "      <td>...</td>\n",
       "      <td>...</td>\n",
       "      <td>...</td>\n",
       "      <td>...</td>\n",
       "      <td>...</td>\n",
       "      <td>...</td>\n",
       "      <td>...</td>\n",
       "    </tr>\n",
       "    <tr>\n",
       "      <th>59270</th>\n",
       "      <td>Fuckfhaisjnsnsjakaka</td>\n",
       "      <td>July 10</td>\n",
       "      <td>70</td>\n",
       "      <td>No ratings yet</td>\n",
       "      <td>True</td>\n",
       "      <td>1</td>\n",
       "      <td>0</td>\n",
       "    </tr>\n",
       "    <tr>\n",
       "      <th>59271</th>\n",
       "      <td>3214213216</td>\n",
       "      <td>July 8</td>\n",
       "      <td>362890</td>\n",
       "      <td>No ratings yet</td>\n",
       "      <td>True</td>\n",
       "      <td>1</td>\n",
       "      <td>0</td>\n",
       "    </tr>\n",
       "    <tr>\n",
       "      <th>59272</th>\n",
       "      <td>ChrisCoroner</td>\n",
       "      <td>July 3</td>\n",
       "      <td>273110</td>\n",
       "      <td>1 of 2 people (50%) found this review helpful</td>\n",
       "      <td>True</td>\n",
       "      <td>1</td>\n",
       "      <td>0</td>\n",
       "    </tr>\n",
       "    <tr>\n",
       "      <th>59273</th>\n",
       "      <td>CaptainAmericaCw</td>\n",
       "      <td>July 20</td>\n",
       "      <td>730</td>\n",
       "      <td>No ratings yet</td>\n",
       "      <td>True</td>\n",
       "      <td>2</td>\n",
       "      <td>0</td>\n",
       "    </tr>\n",
       "    <tr>\n",
       "      <th>59274</th>\n",
       "      <td>76561198267374962</td>\n",
       "      <td>July 2</td>\n",
       "      <td>440</td>\n",
       "      <td>No ratings yet</td>\n",
       "      <td>True</td>\n",
       "      <td>2</td>\n",
       "      <td>0</td>\n",
       "    </tr>\n",
       "  </tbody>\n",
       "</table>\n",
       "<p>59275 rows × 7 columns</p>\n",
       "</div>"
      ],
      "text/plain": [
       "                    user_id              posted  item_id  \\\n",
       "0         76561197970982479    November 5, 2011     1250   \n",
       "1         76561197970982479       July 15, 2011    22200   \n",
       "2         76561197970982479      April 21, 2011    43110   \n",
       "3                   js41637       June 24, 2014   251610   \n",
       "4                   js41637   September 8, 2013   227300   \n",
       "...                     ...                 ...      ...   \n",
       "59270  Fuckfhaisjnsnsjakaka             July 10       70   \n",
       "59271            3214213216              July 8   362890   \n",
       "59272          ChrisCoroner              July 3   273110   \n",
       "59273      CaptainAmericaCw             July 20      730   \n",
       "59274     76561198267374962              July 2      440   \n",
       "\n",
       "                                               helpful  recommend  \\\n",
       "0                                       No ratings yet       True   \n",
       "1                                       No ratings yet       True   \n",
       "2                                       No ratings yet       True   \n",
       "3      15 of 20 people (75%) found this review helpful       True   \n",
       "4         0 of 1 people (0%) found this review helpful       True   \n",
       "...                                                ...        ...   \n",
       "59270                                   No ratings yet       True   \n",
       "59271                                   No ratings yet       True   \n",
       "59272    1 of 2 people (50%) found this review helpful       True   \n",
       "59273                                   No ratings yet       True   \n",
       "59274                                   No ratings yet       True   \n",
       "\n",
       "       sentiment_analisis  Posted  \n",
       "0                       1    2011  \n",
       "1                       2    2011  \n",
       "2                       1    2011  \n",
       "3                       1    2014  \n",
       "4                       1    2013  \n",
       "...                   ...     ...  \n",
       "59270                   1       0  \n",
       "59271                   1       0  \n",
       "59272                   1       0  \n",
       "59273                   2       0  \n",
       "59274                   2       0  \n",
       "\n",
       "[59275 rows x 7 columns]"
      ]
     },
     "execution_count": 26,
     "metadata": {},
     "output_type": "execute_result"
    }
   ],
   "source": [
    "#Extraemos la data\n",
    "eda_review=pd.read_csv('Datasets/reviews_ETL.csv', encoding='utf8')\n",
    "eda_review"
   ]
  },
  {
   "cell_type": "code",
   "execution_count": 24,
   "metadata": {},
   "outputs": [
    {
     "data": {
      "text/plain": [
       "user_id               0\n",
       "posted                0\n",
       "item_id               0\n",
       "helpful               0\n",
       "recommend             0\n",
       "sentiment_analisis    0\n",
       "Posted                0\n",
       "dtype: int64"
      ]
     },
     "execution_count": 24,
     "metadata": {},
     "output_type": "execute_result"
    }
   ],
   "source": [
    "#Verificamos si hay valores nulos que interfieran en el analisis\n",
    "eda_review.isnull().sum()"
   ]
  },
  {
   "cell_type": "markdown",
   "metadata": {},
   "source": [
    "identificador unico de usuario(user_id)\n"
   ]
  },
  {
   "cell_type": "code",
   "execution_count": 30,
   "metadata": {},
   "outputs": [
    {
     "data": {
      "text/plain": [
       "user_id\n",
       "76561198064484479    20\n",
       "MIMMATA              20\n",
       "dannysfatass         20\n",
       "chicken_tonight      20\n",
       "Letachal             20\n",
       "                     ..\n",
       "MegaTeamAJ            1\n",
       "MeGoring              1\n",
       "Hogia                 1\n",
       "__UW0TM8__            1\n",
       "76561198267374962     1\n",
       "Name: count, Length: 25460, dtype: int64"
      ]
     },
     "execution_count": 30,
     "metadata": {},
     "output_type": "execute_result"
    }
   ],
   "source": [
    "#Contabilizamos los datos\n",
    "user= eda_review[\"user_id\"].value_counts()\n",
    "user"
   ]
  },
  {
   "cell_type": "markdown",
   "metadata": {},
   "source": [
    "El valor total es de 25.460 de usuarios"
   ]
  },
  {
   "cell_type": "markdown",
   "metadata": {},
   "source": [
    "Recomendaciones de los usuarios(recommend)"
   ]
  },
  {
   "cell_type": "code",
   "execution_count": 31,
   "metadata": {},
   "outputs": [
    {
     "data": {
      "text/plain": [
       "recommend\n",
       "True     52446\n",
       "False     6829\n",
       "Name: count, dtype: int64"
      ]
     },
     "execution_count": 31,
     "metadata": {},
     "output_type": "execute_result"
    }
   ],
   "source": [
    "#Contabilizamos los datos\n",
    "recomendacion= eda_review[\"recommend\"].value_counts()\n",
    "recomendacion"
   ]
  },
  {
   "cell_type": "code",
   "execution_count": 32,
   "metadata": {},
   "outputs": [
    {
     "data": {
      "image/png": "[encoded data removed]",
      "text/plain": [
       "<Figure size 640x480 with 1 Axes>"
      ]
     },
     "metadata": {},
     "output_type": "display_data"
    }
   ],
   "source": [
    "plt.pie([52446, 6829], labels=['Recomendado', 'No recomendado'], autopct='%1.1f%%')\n",
    "plt.title('Juegos por recomendación')\n",
    "plt.show()\n"
   ]
  },
  {
   "cell_type": "markdown",
   "metadata": {},
   "source": [
    "Analisis de sentimentos (sentiment_analisis)"
   ]
  },
  {
   "cell_type": "markdown",
   "metadata": {},
   "source": [
    "Columna que aplica el análisis de sentimiento con NLP"
   ]
  },
  {
   "cell_type": "code",
   "execution_count": 33,
   "metadata": {},
   "outputs": [
    {
     "data": {
      "text/plain": [
       "sentiment_analisis\n",
       "1    39885\n",
       "2    15349\n",
       "0     4041\n",
       "Name: count, dtype: int64"
      ]
     },
     "execution_count": 33,
     "metadata": {},
     "output_type": "execute_result"
    }
   ],
   "source": [
    "#Contabilizamos los datos\n",
    "analisis= eda_review[\"sentiment_analisis\"].value_counts()\n",
    "analisis"
   ]
  },
  {
   "cell_type": "code",
   "execution_count": 34,
   "metadata": {},
   "outputs": [
    {
     "data": {
      "image/png": "[encoded data removed]",
      "text/plain": [
       "<Figure size 640x480 with 1 Axes>"
      ]
     },
     "metadata": {},
     "output_type": "display_data"
    }
   ],
   "source": [
    "plt.pie([15349, 39885,4041], labels=['Positivo','Malo','Neutral' ], autopct='%1.1f%%')\n",
    "plt.title('Analisis de sentimiento')\n",
    "plt.show()"
   ]
  },
  {
   "cell_type": "markdown",
   "metadata": {},
   "source": [
    "EDA Datasets user_items"
   ]
  },
  {
   "cell_type": "code",
   "execution_count": 35,
   "metadata": {},
   "outputs": [
    {
     "data": {
      "text/html": [
       "<div>\n",
       "<style scoped>\n",
       "    .dataframe tbody tr th:only-of-type {\n",
       "        vertical-align: middle;\n",
       "    }\n",
       "\n",
       "    .dataframe tbody tr th {\n",
       "        vertical-align: top;\n",
       "    }\n",
       "\n",
       "    .dataframe thead th {\n",
       "        text-align: right;\n",
       "    }\n",
       "</style>\n",
       "<table border=\"1\" class=\"dataframe\">\n",
       "  <thead>\n",
       "    <tr style=\"text-align: right;\">\n",
       "      <th></th>\n",
       "      <th>user_id</th>\n",
       "      <th>item_id</th>\n",
       "      <th>item_name</th>\n",
       "      <th>playtime_forever</th>\n",
       "      <th>steam_id</th>\n",
       "      <th>items_count</th>\n",
       "    </tr>\n",
       "  </thead>\n",
       "  <tbody>\n",
       "    <tr>\n",
       "      <th>0</th>\n",
       "      <td>76561197970982479</td>\n",
       "      <td>10</td>\n",
       "      <td>Counter-Strike</td>\n",
       "      <td>6</td>\n",
       "      <td>76561197970982479</td>\n",
       "      <td>277</td>\n",
       "    </tr>\n",
       "    <tr>\n",
       "      <th>1</th>\n",
       "      <td>76561197970982479</td>\n",
       "      <td>20</td>\n",
       "      <td>Team Fortress Classic</td>\n",
       "      <td>0</td>\n",
       "      <td>76561197970982479</td>\n",
       "      <td>277</td>\n",
       "    </tr>\n",
       "    <tr>\n",
       "      <th>2</th>\n",
       "      <td>76561197970982479</td>\n",
       "      <td>30</td>\n",
       "      <td>Day of Defeat</td>\n",
       "      <td>7</td>\n",
       "      <td>76561197970982479</td>\n",
       "      <td>277</td>\n",
       "    </tr>\n",
       "    <tr>\n",
       "      <th>3</th>\n",
       "      <td>76561197970982479</td>\n",
       "      <td>40</td>\n",
       "      <td>Deathmatch Classic</td>\n",
       "      <td>0</td>\n",
       "      <td>76561197970982479</td>\n",
       "      <td>277</td>\n",
       "    </tr>\n",
       "    <tr>\n",
       "      <th>4</th>\n",
       "      <td>76561197970982479</td>\n",
       "      <td>50</td>\n",
       "      <td>Half-Life: Opposing Force</td>\n",
       "      <td>0</td>\n",
       "      <td>76561197970982479</td>\n",
       "      <td>277</td>\n",
       "    </tr>\n",
       "    <tr>\n",
       "      <th>...</th>\n",
       "      <td>...</td>\n",
       "      <td>...</td>\n",
       "      <td>...</td>\n",
       "      <td>...</td>\n",
       "      <td>...</td>\n",
       "      <td>...</td>\n",
       "    </tr>\n",
       "    <tr>\n",
       "      <th>5153204</th>\n",
       "      <td>76561198329548331</td>\n",
       "      <td>346330</td>\n",
       "      <td>BrainBread 2</td>\n",
       "      <td>0</td>\n",
       "      <td>76561198329548331</td>\n",
       "      <td>7</td>\n",
       "    </tr>\n",
       "    <tr>\n",
       "      <th>5153205</th>\n",
       "      <td>76561198329548331</td>\n",
       "      <td>373330</td>\n",
       "      <td>All Is Dust</td>\n",
       "      <td>0</td>\n",
       "      <td>76561198329548331</td>\n",
       "      <td>7</td>\n",
       "    </tr>\n",
       "    <tr>\n",
       "      <th>5153206</th>\n",
       "      <td>76561198329548331</td>\n",
       "      <td>388490</td>\n",
       "      <td>One Way To Die: Steam Edition</td>\n",
       "      <td>3</td>\n",
       "      <td>76561198329548331</td>\n",
       "      <td>7</td>\n",
       "    </tr>\n",
       "    <tr>\n",
       "      <th>5153207</th>\n",
       "      <td>76561198329548331</td>\n",
       "      <td>521570</td>\n",
       "      <td>You Have 10 Seconds 2</td>\n",
       "      <td>4</td>\n",
       "      <td>76561198329548331</td>\n",
       "      <td>7</td>\n",
       "    </tr>\n",
       "    <tr>\n",
       "      <th>5153208</th>\n",
       "      <td>76561198329548331</td>\n",
       "      <td>519140</td>\n",
       "      <td>Minds Eyes</td>\n",
       "      <td>3</td>\n",
       "      <td>76561198329548331</td>\n",
       "      <td>7</td>\n",
       "    </tr>\n",
       "  </tbody>\n",
       "</table>\n",
       "<p>5153209 rows × 6 columns</p>\n",
       "</div>"
      ],
      "text/plain": [
       "                   user_id  item_id                      item_name  \\\n",
       "0        76561197970982479       10                 Counter-Strike   \n",
       "1        76561197970982479       20          Team Fortress Classic   \n",
       "2        76561197970982479       30                  Day of Defeat   \n",
       "3        76561197970982479       40             Deathmatch Classic   \n",
       "4        76561197970982479       50      Half-Life: Opposing Force   \n",
       "...                    ...      ...                            ...   \n",
       "5153204  76561198329548331   346330                   BrainBread 2   \n",
       "5153205  76561198329548331   373330                    All Is Dust   \n",
       "5153206  76561198329548331   388490  One Way To Die: Steam Edition   \n",
       "5153207  76561198329548331   521570          You Have 10 Seconds 2   \n",
       "5153208  76561198329548331   519140                     Minds Eyes   \n",
       "\n",
       "         playtime_forever           steam_id  items_count  \n",
       "0                       6  76561197970982479          277  \n",
       "1                       0  76561197970982479          277  \n",
       "2                       7  76561197970982479          277  \n",
       "3                       0  76561197970982479          277  \n",
       "4                       0  76561197970982479          277  \n",
       "...                   ...                ...          ...  \n",
       "5153204                 0  76561198329548331            7  \n",
       "5153205                 0  76561198329548331            7  \n",
       "5153206                 3  76561198329548331            7  \n",
       "5153207                 4  76561198329548331            7  \n",
       "5153208                 3  76561198329548331            7  \n",
       "\n",
       "[5153209 rows x 6 columns]"
      ]
     },
     "execution_count": 35,
     "metadata": {},
     "output_type": "execute_result"
    }
   ],
   "source": [
    "#Extraemos la data\n",
    "eda_items=pd.read_csv('Datasets/user_items_EtL.csv', encoding='utf8')\n",
    "eda_items"
   ]
  },
  {
   "cell_type": "code",
   "execution_count": 36,
   "metadata": {},
   "outputs": [
    {
     "data": {
      "text/plain": [
       "user_id             0\n",
       "item_id             0\n",
       "item_name           0\n",
       "playtime_forever    0\n",
       "steam_id            0\n",
       "items_count         0\n",
       "dtype: int64"
      ]
     },
     "execution_count": 36,
     "metadata": {},
     "output_type": "execute_result"
    }
   ],
   "source": [
    "#Verificamos si hay valores nulos que interfieran en el analisis\n",
    "eda_items.isnull().sum()"
   ]
  },
  {
   "cell_type": "markdown",
   "metadata": {},
   "source": [
    "Titulos de juego(item_name)"
   ]
  },
  {
   "cell_type": "code",
   "execution_count": 38,
   "metadata": {},
   "outputs": [
    {
     "data": {
      "text/plain": [
       "item_name\n",
       "Dota 2 Test                            49571\n",
       "Counter-Strike: Global Offensive       43776\n",
       "Garry's Mod                            43301\n",
       "Unturned                               38682\n",
       "Left 4 Dead 2                          37044\n",
       "                                       ...  \n",
       "My Own Pet                                 1\n",
       "Medieval Battlefields Black Edition        1\n",
       "Football VR                                1\n",
       "Tower Dwellers                             1\n",
       "Arachnophobia                              1\n",
       "Name: count, Length: 10947, dtype: int64"
      ]
     },
     "execution_count": 38,
     "metadata": {},
     "output_type": "execute_result"
    }
   ],
   "source": [
    "nom_juegos= eda_items[\"item_name\"].value_counts()\n",
    "nom_juegos\n",
    "#Revisamos cuales son los juegs mas repetidos"
   ]
  },
  {
   "cell_type": "code",
   "execution_count": 42,
   "metadata": {},
   "outputs": [
    {
     "data": {
      "text/plain": [
       "Text(0.5, 1.0, 'Top 5 de juegos')"
      ]
     },
     "execution_count": 42,
     "metadata": {},
     "output_type": "execute_result"
    },
    {
     "data": {
      "image/png": "[encoded data removed]",
      "text/plain": [
       "<Figure size 1000x500 with 1 Axes>"
      ]
     },
     "metadata": {},
     "output_type": "display_data"
    }
   ],
   "source": [
    "plt.figure(figsize=(10, 5))\n",
    "nom_juegos[:5].plot(kind='bar', color='green')\n",
    "plt.xlabel('Item_name') ; plt.ylabel('Cantidad de Juegos repetidos') ; plt.title('Top 5 de juegos')"
   ]
  },
  {
   "cell_type": "markdown",
   "metadata": {},
   "source": [
    "Horas de juego (playtime_forever) por usuario (user_id)"
   ]
  },
  {
   "cell_type": "code",
   "execution_count": 49,
   "metadata": {},
   "outputs": [
    {
     "data": {
      "text/html": [
       "<div>\n",
       "<style scoped>\n",
       "    .dataframe tbody tr th:only-of-type {\n",
       "        vertical-align: middle;\n",
       "    }\n",
       "\n",
       "    .dataframe tbody tr th {\n",
       "        vertical-align: top;\n",
       "    }\n",
       "\n",
       "    .dataframe thead th {\n",
       "        text-align: right;\n",
       "    }\n",
       "</style>\n",
       "<table border=\"1\" class=\"dataframe\">\n",
       "  <thead>\n",
       "    <tr style=\"text-align: right;\">\n",
       "      <th></th>\n",
       "      <th>playtime_forever</th>\n",
       "    </tr>\n",
       "    <tr>\n",
       "      <th>user_id</th>\n",
       "      <th></th>\n",
       "    </tr>\n",
       "  </thead>\n",
       "  <tbody>\n",
       "    <tr>\n",
       "      <th>wolop</th>\n",
       "      <td>642773</td>\n",
       "    </tr>\n",
       "    <tr>\n",
       "      <th>Evilutional</th>\n",
       "      <td>635295</td>\n",
       "    </tr>\n",
       "    <tr>\n",
       "      <th>76561198019826668</th>\n",
       "      <td>632452</td>\n",
       "    </tr>\n",
       "    <tr>\n",
       "      <th>76561198039832932</th>\n",
       "      <td>613411</td>\n",
       "    </tr>\n",
       "    <tr>\n",
       "      <th>tsunamitad</th>\n",
       "      <td>600068</td>\n",
       "    </tr>\n",
       "    <tr>\n",
       "      <th>jimmynoe</th>\n",
       "      <td>551719</td>\n",
       "    </tr>\n",
       "    <tr>\n",
       "      <th>shinomegami</th>\n",
       "      <td>530882</td>\n",
       "    </tr>\n",
       "    <tr>\n",
       "      <th>lildoughnut</th>\n",
       "      <td>501498</td>\n",
       "    </tr>\n",
       "    <tr>\n",
       "      <th>ThisIsWhereIGetOff</th>\n",
       "      <td>495058</td>\n",
       "    </tr>\n",
       "    <tr>\n",
       "      <th>76561197977470391</th>\n",
       "      <td>493791</td>\n",
       "    </tr>\n",
       "  </tbody>\n",
       "</table>\n",
       "</div>"
      ],
      "text/plain": [
       "                   playtime_forever\n",
       "user_id                            \n",
       "wolop                        642773\n",
       "Evilutional                  635295\n",
       "76561198019826668            632452\n",
       "76561198039832932            613411\n",
       "tsunamitad                   600068\n",
       "jimmynoe                     551719\n",
       "shinomegami                  530882\n",
       "lildoughnut                  501498\n",
       "ThisIsWhereIGetOff           495058\n",
       "76561197977470391            493791"
      ]
     },
     "execution_count": 49,
     "metadata": {},
     "output_type": "execute_result"
    }
   ],
   "source": [
    "#observamos cual es el mayor horas jugadas por usuario, los primeros (10) usuarios\n",
    "tiempo_juego= eda_items.groupby('user_id')['playtime_forever'].unique().explode()\n",
    "tiempo_juego=pd.DataFrame(tiempo_juego)\n",
    "tiempo_juego1= tiempo_juego.sort_values('playtime_forever', ascending=False)\n",
    "tiempo_juego1.head(10)"
   ]
  },
  {
   "cell_type": "markdown",
   "metadata": {},
   "source": [
    "Ya tras el analisis creamos un dataframe con las columnas a necesitar"
   ]
  },
  {
   "cell_type": "code",
   "execution_count": 50,
   "metadata": {},
   "outputs": [
    {
     "data": {
      "text/html": [
       "<div>\n",
       "<style scoped>\n",
       "    .dataframe tbody tr th:only-of-type {\n",
       "        vertical-align: middle;\n",
       "    }\n",
       "\n",
       "    .dataframe tbody tr th {\n",
       "        vertical-align: top;\n",
       "    }\n",
       "\n",
       "    .dataframe thead th {\n",
       "        text-align: right;\n",
       "    }\n",
       "</style>\n",
       "<table border=\"1\" class=\"dataframe\">\n",
       "  <thead>\n",
       "    <tr style=\"text-align: right;\">\n",
       "      <th></th>\n",
       "      <th>item_id</th>\n",
       "      <th>app_name</th>\n",
       "      <th>genres</th>\n",
       "    </tr>\n",
       "  </thead>\n",
       "  <tbody>\n",
       "    <tr>\n",
       "      <th>0</th>\n",
       "      <td>761140</td>\n",
       "      <td>Lost Summoner Kitty</td>\n",
       "      <td>Action</td>\n",
       "    </tr>\n",
       "    <tr>\n",
       "      <th>1</th>\n",
       "      <td>761140</td>\n",
       "      <td>Lost Summoner Kitty</td>\n",
       "      <td>Casual</td>\n",
       "    </tr>\n",
       "    <tr>\n",
       "      <th>2</th>\n",
       "      <td>761140</td>\n",
       "      <td>Lost Summoner Kitty</td>\n",
       "      <td>Indie</td>\n",
       "    </tr>\n",
       "    <tr>\n",
       "      <th>3</th>\n",
       "      <td>761140</td>\n",
       "      <td>Lost Summoner Kitty</td>\n",
       "      <td>Simulation</td>\n",
       "    </tr>\n",
       "    <tr>\n",
       "      <th>4</th>\n",
       "      <td>761140</td>\n",
       "      <td>Lost Summoner Kitty</td>\n",
       "      <td>Strategy</td>\n",
       "    </tr>\n",
       "    <tr>\n",
       "      <th>...</th>\n",
       "      <td>...</td>\n",
       "      <td>...</td>\n",
       "      <td>...</td>\n",
       "    </tr>\n",
       "    <tr>\n",
       "      <th>71547</th>\n",
       "      <td>610660</td>\n",
       "      <td>Russian Roads</td>\n",
       "      <td>Indie</td>\n",
       "    </tr>\n",
       "    <tr>\n",
       "      <th>71548</th>\n",
       "      <td>610660</td>\n",
       "      <td>Russian Roads</td>\n",
       "      <td>Racing</td>\n",
       "    </tr>\n",
       "    <tr>\n",
       "      <th>71549</th>\n",
       "      <td>610660</td>\n",
       "      <td>Russian Roads</td>\n",
       "      <td>Simulation</td>\n",
       "    </tr>\n",
       "    <tr>\n",
       "      <th>71550</th>\n",
       "      <td>658870</td>\n",
       "      <td>EXIT 2 - Directions</td>\n",
       "      <td>Casual</td>\n",
       "    </tr>\n",
       "    <tr>\n",
       "      <th>71551</th>\n",
       "      <td>658870</td>\n",
       "      <td>EXIT 2 - Directions</td>\n",
       "      <td>Indie</td>\n",
       "    </tr>\n",
       "  </tbody>\n",
       "</table>\n",
       "<p>71552 rows × 3 columns</p>\n",
       "</div>"
      ],
      "text/plain": [
       "       item_id             app_name      genres\n",
       "0       761140  Lost Summoner Kitty      Action\n",
       "1       761140  Lost Summoner Kitty      Casual\n",
       "2       761140  Lost Summoner Kitty       Indie\n",
       "3       761140  Lost Summoner Kitty  Simulation\n",
       "4       761140  Lost Summoner Kitty    Strategy\n",
       "...        ...                  ...         ...\n",
       "71547   610660        Russian Roads       Indie\n",
       "71548   610660        Russian Roads      Racing\n",
       "71549   610660        Russian Roads  Simulation\n",
       "71550   658870  EXIT 2 - Directions      Casual\n",
       "71551   658870  EXIT 2 - Directions       Indie\n",
       "\n",
       "[71552 rows x 3 columns]"
      ]
     },
     "execution_count": 50,
     "metadata": {},
     "output_type": "execute_result"
    }
   ],
   "source": [
    "data_ML= eda_steam1[[\"item_id\", \"app_name\", \"genres\"]]\n",
    "data_ML"
   ]
  },
  {
   "cell_type": "code",
   "execution_count": 52,
   "metadata": {},
   "outputs": [],
   "source": [
    "modelodata_csv = \"Datasets/modelo.csv\"\n",
    "data_ML.to_csv(modelodata_csv , index=False, encoding=\"utf-8\")"
   ]
  }
 ],
 "metadata": {
  "kernelspec": {
   "display_name": "Python 3",
   "language": "python",
   "name": "python3"
  },
  "language_info": {
   "codemirror_mode": {
    "name": "ipython",
    "version": 3
   },
   "file_extension": ".py",
   "mimetype": "text/x-python",
   "name": "python",
   "nbconvert_exporter": "python",
   "pygments_lexer": "ipython3",
   "version": "3.11.6"
  }
 },
 "nbformat": 4,
 "nbformat_minor": 2
}
