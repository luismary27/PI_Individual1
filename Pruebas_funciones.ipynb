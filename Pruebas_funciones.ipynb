{
 "cells": [
  {
   "cell_type": "markdown",
   "metadata": {},
   "source": [
    "Importamos librerias"
   ]
  },
  {
   "cell_type": "code",
   "execution_count": 79,
   "metadata": {},
   "outputs": [],
   "source": [
    "import pandas as pd\n",
    "import numpy as np"
   ]
  },
  {
   "cell_type": "markdown",
   "metadata": {},
   "source": [
    "Importamos los csv"
   ]
  },
  {
   "cell_type": "code",
   "execution_count": 29,
   "metadata": {},
   "outputs": [],
   "source": [
    "df_reviews = pd.read_csv(\"Datasets/reviews_ETL.csv\")\n",
    "df_items = pd.read_csv(\"Datasets/user_items_EtL.csv\")\n",
    "df_steam_games = pd.read_csv(\"Datasets/steam_games_API.csv\")"
   ]
  },
  {
   "cell_type": "markdown",
   "metadata": {},
   "source": [
    "1. def developer( desarrollador : str ): Cantidad de items y porcentaje de contenido Free por año según empresa desarrollador"
   ]
  },
  {
   "cell_type": "code",
   "execution_count": 87,
   "metadata": {},
   "outputs": [],
   "source": [
    "def developer_data(desarrollador: str):\n",
    "    df_dev = df_steam_games.loc[:,['developer', 'item_id', 'price','release_date']]#Sacamos del Dataframe las columnas a necesitar\n",
    "    dev_desarrolladora = df_dev[df_dev['developer'] == desarrollador]#Se filtra el DataFrame para los juegos de la empresa desarrolladora especifica\n",
    "    juegos_total = dev_desarrolladora.groupby('release_date').size().reset_index(name='Cantidad de Items')#Agrupamos por año y cuenta la cantidad de juegos\n",
    "    juegos_free = dev_desarrolladora[dev_desarrolladora['price'] == 0]#Filtra los juegos free\n",
    "    juegos_freeanio = juegos_free.groupby('release_date').size().reset_index(name='Juegos_cantidad')#Agrupa los juegos free por año y cuenta el total\n",
    "    resultado = pd.merge(juegos_total,juegos_freeanio, on='release_date', how='left')#Junta los datos de juegos totales y juegos free por año\n",
    "    resultado['Juegos_cantidad'].fillna(0, inplace=True)#En los valores nulos en juegos_cantidad se coloca 0\n",
    "    resultado['porcentaje_juegos_gratuitos'] = (resultado['Juegos_cantidad'] / resultado['Cantidad de Items']) * 100#Se calcula el porcentaje de juegos gratuitos por año\n",
    "    resultado.drop(columns='Juegos_cantidad', inplace=True)#Se elimian la columna 'juegos_cantidad'\n",
    "    resultado.rename(columns={'release_date': 'Año', 'porcentaje_juegos_gratuitos': 'Contenido Free'}, inplace=True)#Renombramos las columnas como en las indicaciones\n",
    "    resultado['Cantidad de Items'] = resultado['Cantidad de Items'].astype(int)#Convierte la columna 'Cantidad de Items' a enteros 'Contenido Free' a flotantes\n",
    "    resultado['Contenido Free'] = resultado['Contenido Free'].apply(lambda x: '{:.2f}%'.format(x))#'Contenido Free' a flotantes\n",
    "    #Convierte el DataFrame a una lista de diccionarios como se indica\n",
    "    resultado_final_dev = resultado\n",
    "    return resultado_final_dev\n"
   ]
  },
  {
   "cell_type": "code",
   "execution_count": 88,
   "metadata": {},
   "outputs": [
    {
     "data": {
      "text/html": [
       "<div>\n",
       "<style scoped>\n",
       "    .dataframe tbody tr th:only-of-type {\n",
       "        vertical-align: middle;\n",
       "    }\n",
       "\n",
       "    .dataframe tbody tr th {\n",
       "        vertical-align: top;\n",
       "    }\n",
       "\n",
       "    .dataframe thead th {\n",
       "        text-align: right;\n",
       "    }\n",
       "</style>\n",
       "<table border=\"1\" class=\"dataframe\">\n",
       "  <thead>\n",
       "    <tr style=\"text-align: right;\">\n",
       "      <th></th>\n",
       "      <th>Año</th>\n",
       "      <th>Cantidad de Items</th>\n",
       "      <th>Contenido Free</th>\n",
       "    </tr>\n",
       "  </thead>\n",
       "  <tbody>\n",
       "    <tr>\n",
       "      <th>0</th>\n",
       "      <td>2018</td>\n",
       "      <td>5</td>\n",
       "      <td>0.00%</td>\n",
       "    </tr>\n",
       "  </tbody>\n",
       "</table>\n",
       "</div>"
      ],
      "text/plain": [
       "    Año  Cantidad de Items Contenido Free\n",
       "0  2018                  5          0.00%"
      ]
     },
     "execution_count": 88,
     "metadata": {},
     "output_type": "execute_result"
    }
   ],
   "source": [
    "developer_data(\"Kotoshiro\")"
   ]
  },
  {
   "cell_type": "code",
   "execution_count": 89,
   "metadata": {},
   "outputs": [
    {
     "data": {
      "text/html": [
       "<div>\n",
       "<style scoped>\n",
       "    .dataframe tbody tr th:only-of-type {\n",
       "        vertical-align: middle;\n",
       "    }\n",
       "\n",
       "    .dataframe tbody tr th {\n",
       "        vertical-align: top;\n",
       "    }\n",
       "\n",
       "    .dataframe thead th {\n",
       "        text-align: right;\n",
       "    }\n",
       "</style>\n",
       "<table border=\"1\" class=\"dataframe\">\n",
       "  <thead>\n",
       "    <tr style=\"text-align: right;\">\n",
       "      <th></th>\n",
       "      <th>Año</th>\n",
       "      <th>Cantidad de Items</th>\n",
       "      <th>Contenido Free</th>\n",
       "    </tr>\n",
       "  </thead>\n",
       "  <tbody>\n",
       "    <tr>\n",
       "      <th>0</th>\n",
       "      <td>2017</td>\n",
       "      <td>5</td>\n",
       "      <td>0.00%</td>\n",
       "    </tr>\n",
       "  </tbody>\n",
       "</table>\n",
       "</div>"
      ],
      "text/plain": [
       "    Año  Cantidad de Items Contenido Free\n",
       "0  2017                  5          0.00%"
      ]
     },
     "execution_count": 89,
     "metadata": {},
     "output_type": "execute_result"
    }
   ],
   "source": [
    "developer_data(\"Poolians.com\")"
   ]
  },
  {
   "cell_type": "markdown",
   "metadata": {},
   "source": [
    "2. def userdata( User_id : str ): Debe devolver cantidad de dinero gastado por el usuario, el porcentaje de recomendación en base a reviews.recommend y cantidad de items.\n",
    "\n",
    "Ejemplo de retorno: {\"Usuario X\" : us213ndjss09sdf, \"Dinero gastado\": 200 USD, \"% de recomendación\": 20%, \"cantidad de items\": 5}"
   ]
  },
  {
   "cell_type": "code",
   "execution_count": 47,
   "metadata": {},
   "outputs": [],
   "source": [
    "def userdata(user_id: str):\n",
    "  user_id = str(user_id)# Convertimos el user_id a cadena para asegurar coincidencia en las comparaciones\n",
    "  user_compras = df_items[df_items['user_id'] == user_id]# Filtrar las compras del usuario en df_items\n",
    "  user_compras = pd.merge(user_compras, df_steam_games, left_on='item_id', right_on='item_id', how='inner')# Combinamos la información de las compras con los datos de los juegos en df_steam_games\n",
    "  user_compras['price'] = pd.to_numeric(user_compras['price'], errors='coerce')# Asegurarnos que \"price\" sea tratada como tipo numerico (para evitar errores de suma)\n",
    "  total_price = round(user_compras['price'].sum(), 2)# Calculamos el monto de gasto total por usuarios\n",
    "  user_reviews = df_reviews[(df_reviews['user_id'] == user_id) & (df_reviews['item_id'].isin(user_compras['item_id']))] # Se filtran las revisiones del usuario en df_reviews\n",
    "  recomendacion_posi = (user_reviews['recommend'].sum() / float(len(user_reviews))) * 100 if len(user_reviews) > 0 else 0# Se calcula el porcentaje de recomendaciones positiva\n",
    "  recomendacion_posi = f\"{recomendacion_posi:.2f}%\"\n",
    "  items_count = len(user_compras)# Calcular la cantidad de ítems comprados\n",
    "  user_name = user_compras['user_id'].iloc[0] if not user_compras.empty else None# Extraer el nombre del usuario\n",
    "\n",
    "  # Devolver las estadísticas\n",
    "  return {\n",
    "    'Usuarios': user_name,\n",
    "    'Dinero gastado': total_price,\n",
    "    'Porcentaje de recomendación': recomendacion_posi,\n",
    "    'Cantidad de Ítems': items_count\n",
    "  }\n"
   ]
  },
  {
   "cell_type": "code",
   "execution_count": 48,
   "metadata": {},
   "outputs": [
    {
     "data": {
      "text/plain": [
       "{'Usuarios': '76561198054465623',\n",
       " 'Dinero gastado': 2716.41,\n",
       " 'Porcentaje de recomendación': '100.00%',\n",
       " 'Cantidad de Ítems': 610}"
      ]
     },
     "execution_count": 48,
     "metadata": {},
     "output_type": "execute_result"
    }
   ],
   "source": [
    "userdata(\"76561198054465623\")"
   ]
  },
  {
   "cell_type": "code",
   "execution_count": 49,
   "metadata": {},
   "outputs": [
    {
     "data": {
      "text/plain": [
       "{'Usuarios': '76561198074257942',\n",
       " 'Dinero gastado': 4309.99,\n",
       " 'Porcentaje de recomendación': '0.00%',\n",
       " 'Cantidad de Ítems': 345}"
      ]
     },
     "execution_count": 49,
     "metadata": {},
     "output_type": "execute_result"
    }
   ],
   "source": [
    "userdata(\"76561198074257942\")"
   ]
  },
  {
   "cell_type": "code",
   "execution_count": 51,
   "metadata": {},
   "outputs": [
    {
     "data": {
      "text/plain": [
       "{'Usuarios': '76561197970982479',\n",
       " 'Dinero gastado': 6497.29,\n",
       " 'Porcentaje de recomendación': '100.00%',\n",
       " 'Cantidad de Ítems': 451}"
      ]
     },
     "execution_count": 51,
     "metadata": {},
     "output_type": "execute_result"
    }
   ],
   "source": [
    "userdata(76561197970982479)"
   ]
  },
  {
   "cell_type": "markdown",
   "metadata": {},
   "source": [
    "3. def UserForGenre( genero : str ): Debe devolver el usuario que acumula más horas jugadas para el género dado y una lista de la acumulación de horas jugadas por año de lanzamiento.\n",
    "\n",
    "Ejemplo de retorno: {\"Usuario con más horas jugadas para Género X\" : us213ndjss09sdf, \"Horas jugadas\":[{Año: 2013, Horas: 203}, {Año: 2012, Horas: 100}, {Año: 2011, Horas: 23}]}"
   ]
  },
  {
   "cell_type": "code",
   "execution_count": 37,
   "metadata": {},
   "outputs": [],
   "source": [
    "def UserForGenre(genero: str):\n",
    "    filtro_steam = df_steam_games[df_steam_games[\"genres\"].str.contains(genero, case=False, na=False)]# Filtra df_steam_games por el género especificado\n",
    "    filtro_items = df_items[df_items[\"item_id\"].isin(filtro_steam[\"item_id\"])][[\"item_id\", \"user_id\", \"playtime_forever\"]]# Filtra df_items por los juegos del género y selecciona las columnas necesarias\n",
    "    df_joined = pd.merge(filtro_steam, filtro_items[['item_id', 'playtime_forever','user_id']], on='item_id', how='inner')# Se hace un join entre df_games y df_UserItems utilizando 'item_id' como clave\n",
    "    total_hours_by_user_and_year = df_joined.groupby(['user_id', 'release_date'])['playtime_forever'].sum()# Se agrupa por usuario y año, sumamos las horas jugadas y se encuentra el usuario con más horas jugadas para el género dado\n",
    "    max_user = total_hours_by_user_and_year.groupby('user_id').sum().idxmax()\n",
    "\n",
    "    # Se obtiene la lista de acumulación de horas jugadas por año para el usuario con más horas jugadas\n",
    "    max_user_hours_by_year = total_hours_by_user_and_year.loc[max_user].reset_index()\n",
    "    max_user_hours_list = [{\"Año\": int(row['release_date']), \"Horas\": row['playtime_forever']} for _, row in max_user_hours_by_year.iterrows()]\n",
    "    # Se retorna el resultado en un formato específico\n",
    "    result = {\"Usuario con más horas jugadas para Género {}\".format(genero): max_user, \"Horas jugadas\": max_user_hours_list}\n",
    "    return result\n"
   ]
  },
  {
   "cell_type": "code",
   "execution_count": 38,
   "metadata": {},
   "outputs": [
    {
     "data": {
      "text/plain": [
       "{'Usuario con más horas jugadas para Género Indie': 'Efreak',\n",
       " 'Horas jugadas': [{'Año': 0, 'Horas': 543},\n",
       "  {'Año': 1997, 'Horas': 154},\n",
       "  {'Año': 1998, 'Horas': 0},\n",
       "  {'Año': 2001, 'Horas': 0},\n",
       "  {'Año': 2002, 'Horas': 0},\n",
       "  {'Año': 2003, 'Horas': 12},\n",
       "  {'Año': 2004, 'Horas': 1381},\n",
       "  {'Año': 2005, 'Horas': 27},\n",
       "  {'Año': 2006, 'Horas': 1209},\n",
       "  {'Año': 2007, 'Horas': 1660},\n",
       "  {'Año': 2008, 'Horas': 6757},\n",
       "  {'Año': 2009, 'Horas': 24482},\n",
       "  {'Año': 2010, 'Horas': 28654},\n",
       "  {'Año': 2011, 'Horas': 285127},\n",
       "  {'Año': 2012, 'Horas': 39630},\n",
       "  {'Año': 2013, 'Horas': 24350},\n",
       "  {'Año': 2014, 'Horas': 39951},\n",
       "  {'Año': 2015, 'Horas': 62127},\n",
       "  {'Año': 2016, 'Horas': 19784},\n",
       "  {'Año': 2017, 'Horas': 837},\n",
       "  {'Año': 2018, 'Horas': 0}]}"
      ]
     },
     "execution_count": 38,
     "metadata": {},
     "output_type": "execute_result"
    }
   ],
   "source": [
    "UserForGenre(\"Indie\")"
   ]
  },
  {
   "cell_type": "code",
   "execution_count": 13,
   "metadata": {},
   "outputs": [
    {
     "data": {
      "text/plain": [
       "{'Usuario con más horas jugadas para Género Simulation': 'thequeenpanda',\n",
       " 'Horas jugadas': [{'Año': 2001, 'Horas': 152},\n",
       "  {'Año': 2006, 'Horas': 255613},\n",
       "  {'Año': 2007, 'Horas': 1088},\n",
       "  {'Año': 2008, 'Horas': 462},\n",
       "  {'Año': 2009, 'Horas': 497},\n",
       "  {'Año': 2010, 'Horas': 10026},\n",
       "  {'Año': 2011, 'Horas': 2487},\n",
       "  {'Año': 2012, 'Horas': 992},\n",
       "  {'Año': 2013, 'Horas': 59267},\n",
       "  {'Año': 2014, 'Horas': 4857},\n",
       "  {'Año': 2015, 'Horas': 6176},\n",
       "  {'Año': 2016, 'Horas': 6212},\n",
       "  {'Año': 2017, 'Horas': 2670}]}"
      ]
     },
     "execution_count": 13,
     "metadata": {},
     "output_type": "execute_result"
    }
   ],
   "source": [
    "UserForGenre(\"Simulation\")"
   ]
  },
  {
   "cell_type": "code",
   "execution_count": 14,
   "metadata": {},
   "outputs": [
    {
     "data": {
      "text/plain": [
       "{'Usuario con más horas jugadas para Género Casual': '76561197994136663',\n",
       " 'Horas jugadas': [{'Año': 2012, 'Horas': 0},\n",
       "  {'Año': 2015, 'Horas': 230259},\n",
       "  {'Año': 2017, 'Horas': 57}]}"
      ]
     },
     "execution_count": 14,
     "metadata": {},
     "output_type": "execute_result"
    }
   ],
   "source": [
    "UserForGenre(\"Casual\")"
   ]
  },
  {
   "cell_type": "markdown",
   "metadata": {},
   "source": [
    "4. def best_developer_year( año : int ): Devuelve el top 3 de desarrolladores con juegos MÁS recomendados por usuarios para el año dado. (reviews.recommend = True y comentarios positivos)\n",
    "\n",
    "Ejemplo de retorno: [{\"Puesto 1\" : X}, {\"Puesto 2\" : Y},{\"Puesto 3\" : Z}]"
   ]
  },
  {
   "cell_type": "code",
   "execution_count": 39,
   "metadata": {},
   "outputs": [],
   "source": [
    "def best_developer_year(year: int):\n",
    "  df_steam_games['release_date'] = df_steam_games['release_date'].astype(str)#Convierte la columna release_date a cadena de texto\n",
    "  juegos_del_año = df_steam_games[df_steam_games['release_date'].str[:4] == str(year)]#Filtramos los juegos del año especificado\n",
    "  juegos_recomendados = pd.merge(juegos_del_año, df_reviews, left_on=\"item_id\", right_on=\"item_id\", how=\"inner\")#Se Combinan los DataFrames para obtener juegos recomendados\n",
    "  juegos_recomendados = juegos_recomendados[(juegos_recomendados[\"recommend\"] == True) & (juegos_recomendados[\"sentiment_analisis\"] == 2)] #Filtramos juegos recomendados con comentarios positivo\n",
    "  #Agrupamos por desarrollador y contamos las recomendaciones\n",
    "  desarrolladores_recomendados = juegos_recomendados[\"developer\"].value_counts().reset_index()\n",
    "  desarrolladores_recomendados.columns = [\"developer\", \"recommend_count\"]\n",
    "  top_desarrolladores = desarrolladores_recomendados.nlargest(3, \"recommend_count\")#Ordenamos por recomendaciones y tomar los 3 mejores\n",
    "  #Formatear el resultado como una lista de diccionarios\n",
    "  resultado = [\n",
    "    {\"Puesto {}: {}\".format(i + 1, row[\"developer\"]): row[\"recommend_count\"]}\n",
    "    for i, row in top_desarrolladores.iterrows()\n",
    "  ]\n",
    "\n",
    "  return resultado\n"
   ]
  },
  {
   "cell_type": "code",
   "execution_count": 40,
   "metadata": {},
   "outputs": [
    {
     "data": {
      "text/plain": [
       "[{'Puesto 1: Smartly Dressed Games': 1260},\n",
       " {'Puesto 2: Freejam': 456},\n",
       " {'Puesto 3: Studio Wildcard,Instinct Games,Efecto Studios,Virtual Basement LLC': 292}]"
      ]
     },
     "execution_count": 40,
     "metadata": {},
     "output_type": "execute_result"
    }
   ],
   "source": [
    "best_developer_year(\"2017\")"
   ]
  },
  {
   "cell_type": "code",
   "execution_count": 41,
   "metadata": {},
   "outputs": [
    {
     "data": {
      "text/plain": [
       "[{'Puesto 1: CD PROJEKT RED': 20},\n",
       " {'Puesto 2: Rockstar New England': 18},\n",
       " {'Puesto 3: Treyarch': 18}]"
      ]
     },
     "execution_count": 41,
     "metadata": {},
     "output_type": "execute_result"
    }
   ],
   "source": [
    "best_developer_year(\"2008\")"
   ]
  },
  {
   "cell_type": "markdown",
   "metadata": {},
   "source": [
    "5. def developer_reviews_analysis( desarrolladora : str ): Según el desarrollador, se devuelve un diccionario con el nombre del desarrollador como llave y una lista con la cantidad total de registros de reseñas de usuarios que se encuentren categorizados con un análisis de sentimiento como valor positivo o negativo.\n",
    "\n",
    "Ejemplo de retorno: {'Valve' : [Negative = 182, Positive = 278]}"
   ]
  },
  {
   "cell_type": "code",
   "execution_count": 42,
   "metadata": {},
   "outputs": [],
   "source": [
    "def developer_reviews_analysis(desarrolladora: str):\n",
    "    juegos_desarrollador = df_steam_games[df_steam_games[\"developer\"] == desarrolladora]#Filtramoss los juegos del desarrollador\n",
    "    reseñas_desarrollador = df_reviews[df_reviews[\"item_id\"].isin(juegos_desarrollador[\"item_id\"])]#Filtramos las reseñas por los juegos del desarrollador\n",
    "    # Cuenta las reseñas con sentimiento positivo y negativo\n",
    "    sentimiento_positivo = reseñas_desarrollador[reseñas_desarrollador[\"sentiment_analisis\"] == 2].shape[0]\n",
    "    sentimiento_negativo = reseñas_desarrollador[reseñas_desarrollador[\"sentiment_analisis\"] == 0].shape[0]\n",
    "    # Crea el diccionario de resultados\n",
    "    resultado = {\n",
    "        desarrolladora: {\n",
    "            \"Positive\": sentimiento_positivo,\n",
    "            \"Negative\": sentimiento_negativo,\n",
    "        }\n",
    "    }\n",
    "\n",
    "    return resultado\n",
    "\n"
   ]
  },
  {
   "cell_type": "code",
   "execution_count": 61,
   "metadata": {},
   "outputs": [
    {
     "data": {
      "text/plain": [
       "{'3000AD': {'Positive': 0, 'Negative': 1}}"
      ]
     },
     "execution_count": 61,
     "metadata": {},
     "output_type": "execute_result"
    }
   ],
   "source": [
    "developer_reviews_analysis(\"3000AD\")"
   ]
  },
  {
   "cell_type": "code",
   "execution_count": 62,
   "metadata": {},
   "outputs": [
    {
     "data": {
      "text/plain": [
       "{'iWin': {'Positive': 0, 'Negative': 0}}"
      ]
     },
     "execution_count": 62,
     "metadata": {},
     "output_type": "execute_result"
    }
   ],
   "source": [
    "developer_reviews_analysis(\"iWin\")"
   ]
  },
  {
   "cell_type": "code",
   "execution_count": 63,
   "metadata": {},
   "outputs": [
    {
     "data": {
      "text/plain": [
       "{'SEGA': {'Positive': 12, 'Negative': 5}}"
      ]
     },
     "execution_count": 63,
     "metadata": {},
     "output_type": "execute_result"
    }
   ],
   "source": [
    "developer_reviews_analysis(\"SEGA\")"
   ]
  }
 ],
 "metadata": {
  "kernelspec": {
   "display_name": "Python 3",
   "language": "python",
   "name": "python3"
  },
  "language_info": {
   "codemirror_mode": {
    "name": "ipython",
    "version": 3
   },
   "file_extension": ".py",
   "mimetype": "text/x-python",
   "name": "python",
   "nbconvert_exporter": "python",
   "pygments_lexer": "ipython3",
   "version": "3.11.6"
  }
 },
 "nbformat": 4,
 "nbformat_minor": 2
}
