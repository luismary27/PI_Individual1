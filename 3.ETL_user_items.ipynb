{
 "cells": [
  {
   "cell_type": "markdown",
   "metadata": {},
   "source": [
    "Importamos librerias"
   ]
  },
  {
   "cell_type": "code",
   "execution_count": 1,
   "metadata": {},
   "outputs": [],
   "source": [
    "import json\n",
    "import numpy as np\n",
    "import pandas as pd"
   ]
  },
  {
   "cell_type": "markdown",
   "metadata": {},
   "source": [
    "Extraer y explorar datos de nuestro csv"
   ]
  },
  {
   "cell_type": "code",
   "execution_count": 3,
   "metadata": {},
   "outputs": [],
   "source": [
    "items_df1= pd.read_csv('Datasets/user_items.csv')"
   ]
  },
  {
   "cell_type": "code",
   "execution_count": 4,
   "metadata": {},
   "outputs": [
    {
     "name": "stdout",
     "output_type": "stream",
     "text": [
      "<class 'pandas.core.frame.DataFrame'>\n",
      "RangeIndex: 5153209 entries, 0 to 5153208\n",
      "Data columns (total 7 columns):\n",
      " #   Column            Dtype \n",
      "---  ------            ----- \n",
      " 0   user_id           object\n",
      " 1   item_id           int64 \n",
      " 2   item_name         object\n",
      " 3   playtime_forever  int64 \n",
      " 4   playtime_2weeks   int64 \n",
      " 5   steam_id          int64 \n",
      " 6   items_count       int64 \n",
      "dtypes: int64(5), object(2)\n",
      "memory usage: 275.2+ MB\n"
     ]
    }
   ],
   "source": [
    "items_df1.info()"
   ]
  },
  {
   "cell_type": "code",
   "execution_count": 5,
   "metadata": {},
   "outputs": [
    {
     "data": {
      "text/html": [
       "<div>\n",
       "<style scoped>\n",
       "    .dataframe tbody tr th:only-of-type {\n",
       "        vertical-align: middle;\n",
       "    }\n",
       "\n",
       "    .dataframe tbody tr th {\n",
       "        vertical-align: top;\n",
       "    }\n",
       "\n",
       "    .dataframe thead th {\n",
       "        text-align: right;\n",
       "    }\n",
       "</style>\n",
       "<table border=\"1\" class=\"dataframe\">\n",
       "  <thead>\n",
       "    <tr style=\"text-align: right;\">\n",
       "      <th></th>\n",
       "      <th>user_id</th>\n",
       "      <th>item_id</th>\n",
       "      <th>item_name</th>\n",
       "      <th>playtime_forever</th>\n",
       "      <th>playtime_2weeks</th>\n",
       "      <th>steam_id</th>\n",
       "      <th>items_count</th>\n",
       "    </tr>\n",
       "  </thead>\n",
       "  <tbody>\n",
       "    <tr>\n",
       "      <th>5153204</th>\n",
       "      <td>76561198329548331</td>\n",
       "      <td>346330</td>\n",
       "      <td>BrainBread 2</td>\n",
       "      <td>0</td>\n",
       "      <td>0</td>\n",
       "      <td>76561198329548331</td>\n",
       "      <td>7</td>\n",
       "    </tr>\n",
       "    <tr>\n",
       "      <th>5153205</th>\n",
       "      <td>76561198329548331</td>\n",
       "      <td>373330</td>\n",
       "      <td>All Is Dust</td>\n",
       "      <td>0</td>\n",
       "      <td>0</td>\n",
       "      <td>76561198329548331</td>\n",
       "      <td>7</td>\n",
       "    </tr>\n",
       "    <tr>\n",
       "      <th>5153206</th>\n",
       "      <td>76561198329548331</td>\n",
       "      <td>388490</td>\n",
       "      <td>One Way To Die: Steam Edition</td>\n",
       "      <td>3</td>\n",
       "      <td>3</td>\n",
       "      <td>76561198329548331</td>\n",
       "      <td>7</td>\n",
       "    </tr>\n",
       "    <tr>\n",
       "      <th>5153207</th>\n",
       "      <td>76561198329548331</td>\n",
       "      <td>521570</td>\n",
       "      <td>You Have 10 Seconds 2</td>\n",
       "      <td>4</td>\n",
       "      <td>4</td>\n",
       "      <td>76561198329548331</td>\n",
       "      <td>7</td>\n",
       "    </tr>\n",
       "    <tr>\n",
       "      <th>5153208</th>\n",
       "      <td>76561198329548331</td>\n",
       "      <td>519140</td>\n",
       "      <td>Minds Eyes</td>\n",
       "      <td>3</td>\n",
       "      <td>3</td>\n",
       "      <td>76561198329548331</td>\n",
       "      <td>7</td>\n",
       "    </tr>\n",
       "  </tbody>\n",
       "</table>\n",
       "</div>"
      ],
      "text/plain": [
       "                   user_id  item_id                      item_name  \\\n",
       "5153204  76561198329548331   346330                   BrainBread 2   \n",
       "5153205  76561198329548331   373330                    All Is Dust   \n",
       "5153206  76561198329548331   388490  One Way To Die: Steam Edition   \n",
       "5153207  76561198329548331   521570          You Have 10 Seconds 2   \n",
       "5153208  76561198329548331   519140                     Minds Eyes   \n",
       "\n",
       "         playtime_forever  playtime_2weeks           steam_id  items_count  \n",
       "5153204                 0                0  76561198329548331            7  \n",
       "5153205                 0                0  76561198329548331            7  \n",
       "5153206                 3                3  76561198329548331            7  \n",
       "5153207                 4                4  76561198329548331            7  \n",
       "5153208                 3                3  76561198329548331            7  "
      ]
     },
     "execution_count": 5,
     "metadata": {},
     "output_type": "execute_result"
    }
   ],
   "source": [
    "items_df1.tail()"
   ]
  },
  {
   "cell_type": "markdown",
   "metadata": {},
   "source": [
    "Buscamos valores nulos"
   ]
  },
  {
   "cell_type": "code",
   "execution_count": 6,
   "metadata": {},
   "outputs": [
    {
     "name": "stdout",
     "output_type": "stream",
     "text": [
      "user_id             0\n",
      "item_id             0\n",
      "item_name           0\n",
      "playtime_forever    0\n",
      "playtime_2weeks     0\n",
      "steam_id            0\n",
      "items_count         0\n",
      "dtype: int64\n"
     ]
    }
   ],
   "source": [
    "val_null1=items_df1.isnull().sum()\n",
    "print(val_null1)"
   ]
  },
  {
   "cell_type": "code",
   "execution_count": 7,
   "metadata": {},
   "outputs": [
    {
     "data": {
      "text/html": [
       "<div>\n",
       "<style scoped>\n",
       "    .dataframe tbody tr th:only-of-type {\n",
       "        vertical-align: middle;\n",
       "    }\n",
       "\n",
       "    .dataframe tbody tr th {\n",
       "        vertical-align: top;\n",
       "    }\n",
       "\n",
       "    .dataframe thead th {\n",
       "        text-align: right;\n",
       "    }\n",
       "</style>\n",
       "<table border=\"1\" class=\"dataframe\">\n",
       "  <thead>\n",
       "    <tr style=\"text-align: right;\">\n",
       "      <th></th>\n",
       "      <th>user_id</th>\n",
       "      <th>item_id</th>\n",
       "      <th>item_name</th>\n",
       "      <th>playtime_forever</th>\n",
       "      <th>steam_id</th>\n",
       "      <th>items_count</th>\n",
       "    </tr>\n",
       "  </thead>\n",
       "  <tbody>\n",
       "    <tr>\n",
       "      <th>0</th>\n",
       "      <td>76561197970982479</td>\n",
       "      <td>10</td>\n",
       "      <td>Counter-Strike</td>\n",
       "      <td>6</td>\n",
       "      <td>76561197970982479</td>\n",
       "      <td>277</td>\n",
       "    </tr>\n",
       "    <tr>\n",
       "      <th>1</th>\n",
       "      <td>76561197970982479</td>\n",
       "      <td>20</td>\n",
       "      <td>Team Fortress Classic</td>\n",
       "      <td>0</td>\n",
       "      <td>76561197970982479</td>\n",
       "      <td>277</td>\n",
       "    </tr>\n",
       "    <tr>\n",
       "      <th>2</th>\n",
       "      <td>76561197970982479</td>\n",
       "      <td>30</td>\n",
       "      <td>Day of Defeat</td>\n",
       "      <td>7</td>\n",
       "      <td>76561197970982479</td>\n",
       "      <td>277</td>\n",
       "    </tr>\n",
       "    <tr>\n",
       "      <th>3</th>\n",
       "      <td>76561197970982479</td>\n",
       "      <td>40</td>\n",
       "      <td>Deathmatch Classic</td>\n",
       "      <td>0</td>\n",
       "      <td>76561197970982479</td>\n",
       "      <td>277</td>\n",
       "    </tr>\n",
       "    <tr>\n",
       "      <th>4</th>\n",
       "      <td>76561197970982479</td>\n",
       "      <td>50</td>\n",
       "      <td>Half-Life: Opposing Force</td>\n",
       "      <td>0</td>\n",
       "      <td>76561197970982479</td>\n",
       "      <td>277</td>\n",
       "    </tr>\n",
       "    <tr>\n",
       "      <th>...</th>\n",
       "      <td>...</td>\n",
       "      <td>...</td>\n",
       "      <td>...</td>\n",
       "      <td>...</td>\n",
       "      <td>...</td>\n",
       "      <td>...</td>\n",
       "    </tr>\n",
       "    <tr>\n",
       "      <th>5153204</th>\n",
       "      <td>76561198329548331</td>\n",
       "      <td>346330</td>\n",
       "      <td>BrainBread 2</td>\n",
       "      <td>0</td>\n",
       "      <td>76561198329548331</td>\n",
       "      <td>7</td>\n",
       "    </tr>\n",
       "    <tr>\n",
       "      <th>5153205</th>\n",
       "      <td>76561198329548331</td>\n",
       "      <td>373330</td>\n",
       "      <td>All Is Dust</td>\n",
       "      <td>0</td>\n",
       "      <td>76561198329548331</td>\n",
       "      <td>7</td>\n",
       "    </tr>\n",
       "    <tr>\n",
       "      <th>5153206</th>\n",
       "      <td>76561198329548331</td>\n",
       "      <td>388490</td>\n",
       "      <td>One Way To Die: Steam Edition</td>\n",
       "      <td>3</td>\n",
       "      <td>76561198329548331</td>\n",
       "      <td>7</td>\n",
       "    </tr>\n",
       "    <tr>\n",
       "      <th>5153207</th>\n",
       "      <td>76561198329548331</td>\n",
       "      <td>521570</td>\n",
       "      <td>You Have 10 Seconds 2</td>\n",
       "      <td>4</td>\n",
       "      <td>76561198329548331</td>\n",
       "      <td>7</td>\n",
       "    </tr>\n",
       "    <tr>\n",
       "      <th>5153208</th>\n",
       "      <td>76561198329548331</td>\n",
       "      <td>519140</td>\n",
       "      <td>Minds Eyes</td>\n",
       "      <td>3</td>\n",
       "      <td>76561198329548331</td>\n",
       "      <td>7</td>\n",
       "    </tr>\n",
       "  </tbody>\n",
       "</table>\n",
       "<p>5153209 rows × 6 columns</p>\n",
       "</div>"
      ],
      "text/plain": [
       "                   user_id  item_id                      item_name  \\\n",
       "0        76561197970982479       10                 Counter-Strike   \n",
       "1        76561197970982479       20          Team Fortress Classic   \n",
       "2        76561197970982479       30                  Day of Defeat   \n",
       "3        76561197970982479       40             Deathmatch Classic   \n",
       "4        76561197970982479       50      Half-Life: Opposing Force   \n",
       "...                    ...      ...                            ...   \n",
       "5153204  76561198329548331   346330                   BrainBread 2   \n",
       "5153205  76561198329548331   373330                    All Is Dust   \n",
       "5153206  76561198329548331   388490  One Way To Die: Steam Edition   \n",
       "5153207  76561198329548331   521570          You Have 10 Seconds 2   \n",
       "5153208  76561198329548331   519140                     Minds Eyes   \n",
       "\n",
       "         playtime_forever           steam_id  items_count  \n",
       "0                       6  76561197970982479          277  \n",
       "1                       0  76561197970982479          277  \n",
       "2                       7  76561197970982479          277  \n",
       "3                       0  76561197970982479          277  \n",
       "4                       0  76561197970982479          277  \n",
       "...                   ...                ...          ...  \n",
       "5153204                 0  76561198329548331            7  \n",
       "5153205                 0  76561198329548331            7  \n",
       "5153206                 3  76561198329548331            7  \n",
       "5153207                 4  76561198329548331            7  \n",
       "5153208                 3  76561198329548331            7  \n",
       "\n",
       "[5153209 rows x 6 columns]"
      ]
     },
     "execution_count": 7,
     "metadata": {},
     "output_type": "execute_result"
    }
   ],
   "source": [
    "#Eliminamos las columnas que no necesitamos\n",
    "items_df2=items_df1.drop(columns=[\"playtime_2weeks\"])\n",
    "items_df2"
   ]
  },
  {
   "cell_type": "code",
   "execution_count": 11,
   "metadata": {},
   "outputs": [],
   "source": [
    "items_df2.to_csv(r'Datasets\\user_items_EtL.csv', index=False, encoding='utf-8')\n"
   ]
  }
 ],
 "metadata": {
  "kernelspec": {
   "display_name": "Python 3",
   "language": "python",
   "name": "python3"
  },
  "language_info": {
   "codemirror_mode": {
    "name": "ipython",
    "version": 3
   },
   "file_extension": ".py",
   "mimetype": "text/x-python",
   "name": "python",
   "nbconvert_exporter": "python",
   "pygments_lexer": "ipython3",
   "version": "3.11.6"
  }
 },
 "nbformat": 4,
 "nbformat_minor": 2
}
